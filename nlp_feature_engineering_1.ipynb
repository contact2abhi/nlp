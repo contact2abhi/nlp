{
  "nbformat": 4,
  "nbformat_minor": 0,
  "metadata": {
    "colab": {
      "provenance": [],
      "authorship_tag": "ABX9TyN+HBDJhtiBwWfG6GbCn2lv",
      "include_colab_link": true
    },
    "kernelspec": {
      "name": "python3",
      "display_name": "Python 3"
    },
    "language_info": {
      "name": "python"
    }
  },
  "cells": [
    {
      "cell_type": "markdown",
      "metadata": {
        "id": "view-in-github",
        "colab_type": "text"
      },
      "source": [
        "<a href=\"https://colab.research.google.com/github/contact2abhi/nlp/blob/main/nlp_feature_engineering_1.ipynb\" target=\"_parent\"><img src=\"https://colab.research.google.com/assets/colab-badge.svg\" alt=\"Open In Colab\"/></a>"
      ]
    },
    {
      "cell_type": "markdown",
      "source": [
        "**NLP Feature Engineering or Text Representation**\n"
      ],
      "metadata": {
        "id": "3JHDR21uyslB"
      }
    },
    {
      "cell_type": "markdown",
      "source": [
        "Feature Engineering in NLP is mechanism of converting the word, text or even a paragraph into a vector is called feature engineering or Text Representation."
      ],
      "metadata": {
        "id": "cWkdSw0I_fGv"
      }
    },
    {
      "cell_type": "markdown",
      "source": [
        "Some basic approaches of converting text into vector are Label encoding and One Hot encoding"
      ],
      "metadata": {
        "id": "kb2xe9xpB3f6"
      }
    },
    {
      "cell_type": "markdown",
      "source": [
        "**Label Encoding**\n",
        "\n",
        "For label encoding suppose you have a python list of vocabulary of 50k words. Every word will have its own index in the list of vocabulary.\n",
        "\n",
        "Now when you get a input sentense, you replace every word with its index from the vocabulary list and store it as a list. This list will be called as Vector, and this technique of converting text to vector is called Label Encoding."
      ],
      "metadata": {
        "id": "aPPQuyT0JnW5"
      }
    },
    {
      "cell_type": "markdown",
      "source": [
        "**One Hot Encoding**\n",
        "\n",
        "For one hot encoding, while training your model you grab all words and store them in a list.\n",
        "\n",
        "Now when you get a input sentense for each word you create a vector by putting 1 at the index of that word in vocabulary, and rest all places put 0. In this approach you will have vector for each word."
      ],
      "metadata": {
        "id": "n4YjPD6iKhoQ"
      }
    }
  ]
}