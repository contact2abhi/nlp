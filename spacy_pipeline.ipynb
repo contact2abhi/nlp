{
  "nbformat": 4,
  "nbformat_minor": 0,
  "metadata": {
    "colab": {
      "provenance": [],
      "authorship_tag": "ABX9TyNJbA8CkOIzrQpQ8kpsgcAg",
      "include_colab_link": true
    },
    "kernelspec": {
      "name": "python3",
      "display_name": "Python 3"
    },
    "language_info": {
      "name": "python"
    }
  },
  "cells": [
    {
      "cell_type": "markdown",
      "metadata": {
        "id": "view-in-github",
        "colab_type": "text"
      },
      "source": [
        "<a href=\"https://colab.research.google.com/github/contact2abhi/nlp/blob/main/spacy_pipeline.ipynb\" target=\"_parent\"><img src=\"https://colab.research.google.com/assets/colab-badge.svg\" alt=\"Open In Colab\"/></a>"
      ]
    },
    {
      "cell_type": "code",
      "execution_count": 2,
      "metadata": {
        "id": "jdx51Wz8O05i"
      },
      "outputs": [],
      "source": [
        "import spacy"
      ]
    },
    {
      "cell_type": "code",
      "source": [
        "nlp = spacy.blank(\"en\")\n",
        "nlp.pipe_names"
      ],
      "metadata": {
        "id": "M_Cdmmt2QS0_",
        "colab": {
          "base_uri": "https://localhost:8080/"
        },
        "outputId": "db4c9857-83e7-4a7a-ce97-173092a7444d"
      },
      "execution_count": 8,
      "outputs": [
        {
          "output_type": "execute_result",
          "data": {
            "text/plain": [
              "[]"
            ]
          },
          "metadata": {},
          "execution_count": 8
        }
      ]
    },
    {
      "cell_type": "code",
      "source": [
        "nlp = spacy.load(\"en_core_web_sm\")\n",
        "\n",
        "nlp.pipe_names\n",
        "\n",
        "doc = nlp(\"Yesteray I buy a samosa in 10 ruppes. While it was costlier in my office canteen.\")"
      ],
      "metadata": {
        "id": "1qaTH5HjVOih"
      },
      "execution_count": 16,
      "outputs": []
    },
    {
      "cell_type": "markdown",
      "source": [
        "pos - Part of Speach"
      ],
      "metadata": {
        "id": "gZWoTxvOWUMz"
      }
    },
    {
      "cell_type": "code",
      "source": [
        "for token in doc:\n",
        "  print(token, \"|\", token.pos, \"|\", token.lemma_)"
      ],
      "metadata": {
        "colab": {
          "base_uri": "https://localhost:8080/"
        },
        "id": "8PIED59xVu7e",
        "outputId": "7c7166a2-597e-44ae-d468-60706e75df04"
      },
      "execution_count": 17,
      "outputs": [
        {
          "output_type": "stream",
          "name": "stdout",
          "text": [
            "Yesteray | 96 | Yesteray\n",
            "I | 95 | I\n",
            "buy | 100 | buy\n",
            "a | 90 | a\n",
            "samosa | 92 | samosa\n",
            "in | 85 | in\n",
            "10 | 93 | 10\n",
            "ruppes | 92 | ruppe\n",
            ". | 97 | .\n",
            "While | 98 | while\n",
            "it | 95 | it\n",
            "was | 87 | be\n",
            "costlier | 84 | costly\n",
            "in | 85 | in\n",
            "my | 95 | my\n",
            "office | 92 | office\n",
            "canteen | 92 | canteen\n",
            ". | 97 | .\n"
          ]
        }
      ]
    }
  ]
}