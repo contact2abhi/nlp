{
  "nbformat": 4,
  "nbformat_minor": 0,
  "metadata": {
    "colab": {
      "provenance": [],
      "authorship_tag": "ABX9TyMzECgHeAI7RYkoHkV0aAAa",
      "include_colab_link": true
    },
    "kernelspec": {
      "name": "python3",
      "display_name": "Python 3"
    },
    "language_info": {
      "name": "python"
    }
  },
  "cells": [
    {
      "cell_type": "markdown",
      "metadata": {
        "id": "view-in-github",
        "colab_type": "text"
      },
      "source": [
        "<a href=\"https://colab.research.google.com/github/contact2abhi/nlp/blob/main/spacy_lemmatization.ipynb\" target=\"_parent\"><img src=\"https://colab.research.google.com/assets/colab-badge.svg\" alt=\"Open In Colab\"/></a>"
      ]
    },
    {
      "cell_type": "code",
      "execution_count": 1,
      "metadata": {
        "id": "jdx51Wz8O05i"
      },
      "outputs": [],
      "source": [
        "import spacy"
      ]
    },
    {
      "cell_type": "code",
      "source": [
        "nlp = spacy.load(\"en_core_web_sm\")\n",
        "\n",
        "doc = nlp(\"Ravan liked eating lots of samosas.\")"
      ],
      "metadata": {
        "id": "1qaTH5HjVOih"
      },
      "execution_count": 4,
      "outputs": []
    },
    {
      "cell_type": "code",
      "source": [
        "for token in doc:\n",
        "  print(token.text , \" = \", token.lemma_)"
      ],
      "metadata": {
        "colab": {
          "base_uri": "https://localhost:8080/"
        },
        "id": "8PIED59xVu7e",
        "outputId": "f3d6bdca-eee6-4c38-dbca-2dab4a2e5f09"
      },
      "execution_count": 5,
      "outputs": [
        {
          "output_type": "stream",
          "name": "stdout",
          "text": [
            "Ravan  =  Ravan\n",
            "liked  =  like\n",
            "eating  =  eat\n",
            "lots  =  lot\n",
            "of  =  of\n",
            "samosas  =  samosa\n",
            ".  =  .\n"
          ]
        }
      ]
    },
    {
      "cell_type": "markdown",
      "source": [
        "Customization of lemmatization"
      ],
      "metadata": {
        "id": "3JHDR21uyslB"
      }
    },
    {
      "cell_type": "markdown",
      "source": [
        "Print name of pipes"
      ],
      "metadata": {
        "id": "DxCy79DVy2fT"
      }
    },
    {
      "cell_type": "code",
      "source": [
        "nlp.pipe_names"
      ],
      "metadata": {
        "colab": {
          "base_uri": "https://localhost:8080/"
        },
        "id": "0k9r_J3RyuVZ",
        "outputId": "6d9bacc5-ed01-47ef-eae4-190771476d30"
      },
      "execution_count": 6,
      "outputs": [
        {
          "output_type": "execute_result",
          "data": {
            "text/plain": [
              "['tok2vec', 'tagger', 'parser', 'attribute_ruler', 'lemmatizer', 'ner']"
            ]
          },
          "metadata": {},
          "execution_count": 6
        }
      ]
    },
    {
      "cell_type": "markdown",
      "source": [
        "attribute_ruler is pipe, which allows to set your own rules"
      ],
      "metadata": {
        "id": "-CCH9xHYy-qm"
      }
    },
    {
      "cell_type": "code",
      "source": [
        "ar = nlp.get_pipe(\"attribute_ruler\")\n",
        "print(type(ar))"
      ],
      "metadata": {
        "colab": {
          "base_uri": "https://localhost:8080/"
        },
        "id": "XMhF7uZ_zF4U",
        "outputId": "c664b137-9b1d-44d5-81df-fbf69bb08fc4"
      },
      "execution_count": 9,
      "outputs": [
        {
          "output_type": "stream",
          "name": "stdout",
          "text": [
            "<class 'spacy.pipeline.attributeruler.AttributeRuler'>\n"
          ]
        }
      ]
    },
    {
      "cell_type": "markdown",
      "source": [
        "Add rule to convert \"bro\" and \"brah\" as base word \"brother\""
      ],
      "metadata": {
        "id": "LU869NRUzayf"
      }
    },
    {
      "cell_type": "code",
      "source": [
        "doc = nlp(\"Bro, you want to go? Brah don't say no!\")\n",
        "ar.add([[{\"TEXT\": \"Bro\"}], [{\"TEXT\": \"Brah\"}]], {\"LEMMA\": \"brother\"})\n"
      ],
      "metadata": {
        "id": "ls1iPGwPziKz"
      },
      "execution_count": 13,
      "outputs": []
    },
    {
      "cell_type": "code",
      "source": [
        "for token in doc:\n",
        "  print(token.text , \" = \", token.lemma_)"
      ],
      "metadata": {
        "colab": {
          "base_uri": "https://localhost:8080/"
        },
        "id": "8HnpO3Y20DEF",
        "outputId": "76e77757-72df-4808-8636-bc8c99e6fb25"
      },
      "execution_count": 14,
      "outputs": [
        {
          "output_type": "stream",
          "name": "stdout",
          "text": [
            "Bro  =  brother\n",
            ",  =  ,\n",
            "you  =  you\n",
            "want  =  want\n",
            "to  =  to\n",
            "go  =  go\n",
            "?  =  ?\n",
            "Brah  =  brother\n",
            "do  =  do\n",
            "n't  =  not\n",
            "say  =  say\n",
            "no  =  no\n",
            "!  =  !\n"
          ]
        }
      ]
    }
  ]
}