{
  "nbformat": 4,
  "nbformat_minor": 0,
  "metadata": {
    "colab": {
      "provenance": [],
      "authorship_tag": "ABX9TyPm15L5vJstq04N52jKCNuG",
      "include_colab_link": true
    },
    "kernelspec": {
      "name": "python3",
      "display_name": "Python 3"
    },
    "language_info": {
      "name": "python"
    }
  },
  "cells": [
    {
      "cell_type": "markdown",
      "metadata": {
        "id": "view-in-github",
        "colab_type": "text"
      },
      "source": [
        "<a href=\"https://colab.research.google.com/github/contact2abhi/nlp/blob/main/nlp_1.ipynb\" target=\"_parent\"><img src=\"https://colab.research.google.com/assets/colab-badge.svg\" alt=\"Open In Colab\"/></a>"
      ]
    },
    {
      "cell_type": "code",
      "execution_count": 1,
      "metadata": {
        "id": "jdx51Wz8O05i"
      },
      "outputs": [],
      "source": [
        "import spacy"
      ]
    },
    {
      "cell_type": "code",
      "source": [
        "nlp = spacy.blank(\"en\")\n",
        "\n",
        "doc = nlp(\"Hello Abhishek! what are you going to do this weekend?\")"
      ],
      "metadata": {
        "id": "M_Cdmmt2QS0_"
      },
      "execution_count": 4,
      "outputs": []
    },
    {
      "cell_type": "code",
      "source": [
        "for token in doc:\n",
        "  print(token)"
      ],
      "metadata": {
        "colab": {
          "base_uri": "https://localhost:8080/"
        },
        "id": "oI31MtUVQfRw",
        "outputId": "6e8c028f-02f6-419f-ab5f-906066d24473"
      },
      "execution_count": 5,
      "outputs": [
        {
          "output_type": "stream",
          "name": "stdout",
          "text": [
            "Hello\n",
            "Abhishek\n",
            "!\n",
            "what\n",
            "are\n",
            "you\n",
            "going\n",
            "to\n",
            "do\n",
            "this\n",
            "weekend\n",
            "?\n"
          ]
        }
      ]
    },
    {
      "cell_type": "code",
      "source": [
        "nlp = spacy.load(\"en_core_web_sm\")\n",
        "doc = nlp(\"Hello Abhishek! what are you going to do this weekend?\")"
      ],
      "metadata": {
        "id": "AV-8cmbDQ2_I"
      },
      "execution_count": null,
      "outputs": []
    },
    {
      "cell_type": "code",
      "source": [
        "for token in doc:\n",
        "  print(token)"
      ],
      "metadata": {
        "colab": {
          "base_uri": "https://localhost:8080/"
        },
        "id": "tegh7vPpRKJs",
        "outputId": "e8dec2f1-06ea-4a75-9afb-502c3e638d9b"
      },
      "execution_count": 6,
      "outputs": [
        {
          "output_type": "stream",
          "name": "stdout",
          "text": [
            "Hello\n",
            "Abhishek\n",
            "!\n",
            "what\n",
            "are\n",
            "you\n",
            "going\n",
            "to\n",
            "do\n",
            "this\n",
            "weekend\n",
            "?\n"
          ]
        }
      ]
    }
  ]
}